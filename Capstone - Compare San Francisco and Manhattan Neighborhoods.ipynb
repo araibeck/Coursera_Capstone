{
 "cells": [
  {
   "cell_type": "markdown",
   "metadata": {},
   "source": [
    "# A Comparison of Manhattan Neighborhoods and San Francisco Neighborhoods Based on Their Venues"
   ]
  },
  {
   "cell_type": "markdown",
   "metadata": {},
   "source": [
    "## Tabe of Contents\n",
    "<div class=\"alert alert-block alert-info\" style=\"margin-top: 20px\">\n",
    "\n",
    "<font size = 3>\n",
    "\n",
    "1. <a href=\"#Introduction\">Introduction / Business Problem</a>\n",
    "\n",
    "2. <a href=\"#Methodology and Data\">Methodology and Data</a>\n",
    "\n",
    "</font>\n",
    "</div>"
   ]
  },
  {
   "cell_type": "markdown",
   "metadata": {},
   "source": [
    "<a id='Introduction'></a>"
   ]
  },
  {
   "cell_type": "markdown",
   "metadata": {},
   "source": [
    "## Introduction / Business Problem\n",
    "I work for a company that specializes in helping clients relocate from one city to another city within the United States.\n",
    "\n",
    "Our latest client is relocating from Manhattan, a borough of New York City, to San Francisco, a city in northern California. My assignment is to research venues in the neighborhoods of each city, and identify similarities (or differences) between those neighborhoods, based on their venues.\n",
    "\n",
    "My company will use this analysis to help their client find a San Francisco neighborhood they might like to live in, based on the neighborhoods of Manhattan that the client is already familiar with. In other words, my company wants to be able to tell our client, \"if you like the venues in Manhattan neighborhood <i>A</i>, you will probably like San Francisco neighborhood <i>B</i>.\""
   ]
  },
  {
   "cell_type": "markdown",
   "metadata": {},
   "source": [
    "<a id='Methodology and Data'></a>"
   ]
  },
  {
   "cell_type": "markdown",
   "metadata": {},
   "source": [
    "## Methodology and Data\n",
    "I will identify the types of venues in each neighborhood of Manhattan and San Francisco, then run a k-means cluster analysis to identify similarities or differences between the neighborhoods. Based on the results, I will assess whether we can make meaningful statements to our client, \"if you like the venues in Manhattan neighborhood <i>A</i>, you will probably like San Francisco neighborhood <i>B</i>.\"\n",
    "\n",
    "Approach:\n",
    "\n",
    "1. Identify the neighborhoods in each city and their geographical coordinates. The geographical coordinates are necessary to use Foursquare to find venues in that neighborhood. The geographical coordinates are also used to display illustrative maps of each city.\n",
    "\n",
    "    Geographical coordinates for Manhattan were taken from the GeoJSON file that I obtaind from here:\n",
    "\n",
    "        https://geo.nyu.edu/catalog/nyu_2451_34572\n",
    "\n",
    "    The data is published by the New York City Department of City Planning. The JSON file includes latitude and longitude that (presumably) represent the centroid of each neighborhood.\n",
    "\n",
    "    Geographical coordinages for San Francisco were derived from the GeoJSON file that I exported from here:\n",
    "\n",
    "        https://data.sfgov.org/Geographic-Locations-and-Boundaries/Planning-Neighborhood-Groups-Map/iacs-ws63\n",
    "\n",
    "    The data.sfgov.org site has several different versions of neighborhood maps, such as neighborhoods defined by the San Francisco Association of Realtors and The Department of Public Health and the Mayor’s Office of Housing and Community Development. I used the version of the map from the Department of City Planning, since the Manhattan neighborhoods map is form the New York City Department of City Planning.\n",
    "    \n",
    "    The San Francicso map data is in the form of multipolygon coordinates for each neighborhood. I will estimate the centroid for each neighborhood by averaging the latitudes and longitudes of each neighborhoods coordinates.\n",
    "    \n",
    "\n",
    "2. The Foursquare API will be used to identify nearby venues in each neighborhood. The results will be cleaned and wranged into a dataframe with rows that consists of a neighborhood name and top ten venue categories for that neighborhood.\n",
    "\n",
    "\n",
    "3. k-means clustering will be used to group neighborhoods into like clusters, based on the commonality of venues.\n",
    "\n",
    "\n",
    "4. A review of the cluster results will be made to see if meaningful similarities can be found between neighborhoods in each cluster, which could contain a mix of neighborhoods from Manhattan and San Francisco."
   ]
  }
 ],
 "metadata": {
  "kernelspec": {
   "display_name": "Python 3",
   "language": "python",
   "name": "python3"
  },
  "language_info": {
   "codemirror_mode": {
    "name": "ipython",
    "version": 3
   },
   "file_extension": ".py",
   "mimetype": "text/x-python",
   "name": "python",
   "nbconvert_exporter": "python",
   "pygments_lexer": "ipython3",
   "version": "3.6.5"
  }
 },
 "nbformat": 4,
 "nbformat_minor": 2
}
